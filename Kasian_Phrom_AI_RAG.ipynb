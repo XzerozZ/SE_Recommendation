{
 "cells": [
  {
   "cell_type": "code",
   "execution_count": null,
   "metadata": {},
   "outputs": [],
   "source": [
    "!pip install odfpy"
   ]
  },
  {
   "cell_type": "code",
   "execution_count": 50,
   "metadata": {},
   "outputs": [
    {
     "data": {
      "text/html": [
       "<div>\n",
       "<style scoped>\n",
       "    .dataframe tbody tr th:only-of-type {\n",
       "        vertical-align: middle;\n",
       "    }\n",
       "\n",
       "    .dataframe tbody tr th {\n",
       "        vertical-align: top;\n",
       "    }\n",
       "\n",
       "    .dataframe thead th {\n",
       "        text-align: right;\n",
       "    }\n",
       "</style>\n",
       "<table border=\"1\" class=\"dataframe\">\n",
       "  <thead>\n",
       "    <tr style=\"text-align: right;\">\n",
       "      <th></th>\n",
       "      <th>place_id</th>\n",
       "      <th>Name</th>\n",
       "      <th>Province</th>\n",
       "      <th>Address</th>\n",
       "      <th>latitude</th>\n",
       "      <th>longitude</th>\n",
       "      <th>Tel</th>\n",
       "      <th>WebSite</th>\n",
       "      <th>TimeOpen</th>\n",
       "      <th>LinkGoogleMaps</th>\n",
       "      <th>price</th>\n",
       "      <th>img1</th>\n",
       "      <th>img2</th>\n",
       "      <th>img3</th>\n",
       "      <th>img4</th>\n",
       "      <th>img5</th>\n",
       "      <th>รูปภาพ Reference</th>\n",
       "    </tr>\n",
       "  </thead>\n",
       "  <tbody>\n",
       "    <tr>\n",
       "      <th>0</th>\n",
       "      <td>ChIJv4Z8OdphHTERROz2ukJwfQs</td>\n",
       "      <td>ศูนย์ดูแลผู้สูงอายุ บ้านพักคนชรา พระราม9 รามคำ...</td>\n",
       "      <td>กรุงเทพมหานคร</td>\n",
       "      <td>21 ซอย พระราม 9 ซอย 49 แขวงสวนหลวง เขตสวนหลวง ...</td>\n",
       "      <td>13.747862</td>\n",
       "      <td>100.631284</td>\n",
       "      <td>092 614 9542</td>\n",
       "      <td>http://www.icareseniorshome.com/</td>\n",
       "      <td>['วันจันทร์: เปิด 24 ชั่วโมง', 'วันอังคาร: เปิ...</td>\n",
       "      <td>https://maps.google.com/?cid=827941338412936260</td>\n",
       "      <td>15500</td>\n",
       "      <td>https://fi.lnwfile.com/_/fi/_raw/fb/nq/n4.jpg</td>\n",
       "      <td>https://cdn.shopify.com/s/files/1/0800/8155/16...</td>\n",
       "      <td>https://fi.lnwfile.com/_/fi/_raw/h7/eo/ny.jpg</td>\n",
       "      <td>https://fi.lnwfile.com/_/fi/_raw/v8/rg/9p.jpg</td>\n",
       "      <td>https://inwfile.com/s-fi/34x7aq.jpg</td>\n",
       "      <td>https://maps.google.com/maps/contrib/114683092...</td>\n",
       "    </tr>\n",
       "    <tr>\n",
       "      <th>1</th>\n",
       "      <td>ChIJGXGLHxlvHTERLQXQ9DJDCWg</td>\n",
       "      <td>บ้านกฤษณา ศูนย์ดูแลผู้สูงอายุ Krissana Nursing...</td>\n",
       "      <td>กรุงเทพมหานคร</td>\n",
       "      <td>ถนน รามคำแหง แขวงมีนบุรี เขตมีนบุรี กรุงเทพมหา...</td>\n",
       "      <td>13.794736</td>\n",
       "      <td>100.709501</td>\n",
       "      <td>086 034 0236</td>\n",
       "      <td>https://www.facebook.com/KrissanaNursingCare/?...</td>\n",
       "      <td>['วันจันทร์: เปิด 24 ชั่วโมง', 'วันอังคาร: เปิ...</td>\n",
       "      <td>https://maps.google.com/?cid=7496596940869600557</td>\n",
       "      <td>22000</td>\n",
       "      <td>https://www.thaielder.com/datas/nursinghome/35...</td>\n",
       "      <td>https://www.thaielder.com/datas/nursinghome/35...</td>\n",
       "      <td>https://www.thaielder.com/datas/nursinghome/35...</td>\n",
       "      <td>https://www.thaielder.com/datas/nursinghome/35...</td>\n",
       "      <td>https://www.thaielder.com/datas/nursinghome/35...</td>\n",
       "      <td>https://maps.google.com/maps/contrib/101129824...</td>\n",
       "    </tr>\n",
       "    <tr>\n",
       "      <th>2</th>\n",
       "      <td>ChIJIRi7E7WR4jARWmz_-yNxkEw</td>\n",
       "      <td>ศูนย์ดูแลผู้สูงอายุ | The Rich Nursing Resort</td>\n",
       "      <td>กรุงเทพมหานคร</td>\n",
       "      <td>760 1 ถ. บรมราชชนนี แขวงศาลาธรรมสพน์ เขตทวีวัฒ...</td>\n",
       "      <td>13.790170</td>\n",
       "      <td>100.350272</td>\n",
       "      <td>092 645 8126</td>\n",
       "      <td>http://www.therichnursing.com/</td>\n",
       "      <td>['วันจันทร์: เปิด 24 ชั่วโมง', 'วันอังคาร: เปิ...</td>\n",
       "      <td>https://maps.google.com/?cid=5517033942894472282</td>\n",
       "      <td>22000</td>\n",
       "      <td>https://www.therichnursing.com/wp-content/uplo...</td>\n",
       "      <td>https://www.therichnursing.com/wp-content/uplo...</td>\n",
       "      <td>https://www.therichnursing.com/wp-content/uplo...</td>\n",
       "      <td>NaN</td>\n",
       "      <td>NaN</td>\n",
       "      <td>https://maps.google.com/maps/contrib/117449340...</td>\n",
       "    </tr>\n",
       "    <tr>\n",
       "      <th>3</th>\n",
       "      <td>ChIJTTcsSU6Y4jARkXrTKuLwSoQ</td>\n",
       "      <td>สถานพักฟื้นผู้ป่วย ผู้สูงอายุ เพชรเกษม เฮลท์แคร์</td>\n",
       "      <td>กรุงเทพมหานคร</td>\n",
       "      <td>164 177-178 ซอย เพชรเกษม 14 แขวงวัดท่าพระ เขตบ...</td>\n",
       "      <td>13.729017</td>\n",
       "      <td>100.471641</td>\n",
       "      <td>093 592 2595</td>\n",
       "      <td>https://www.therichnursing.com/</td>\n",
       "      <td>['วันจันทร์: เปิด 24 ชั่วโมง', 'วันอังคาร: เปิ...</td>\n",
       "      <td>https://maps.google.com/?cid=9532696415454853777</td>\n",
       "      <td>17000</td>\n",
       "      <td>https://www.thaielder.com/datas/nursinghome/31...</td>\n",
       "      <td>https://www.thaielder.com/datas/nursinghome/31...</td>\n",
       "      <td>https://www.thaielder.com/datas/nursinghome/31...</td>\n",
       "      <td>https://www.thaielder.com/datas/nursinghome/31...</td>\n",
       "      <td>https://www.thaielder.com/datas/nursinghome/31...</td>\n",
       "      <td>https://maps.google.com/maps/contrib/104991582...</td>\n",
       "    </tr>\n",
       "    <tr>\n",
       "      <th>4</th>\n",
       "      <td>ChIJk6AU3Xef4jAReBrdYxNSP6Q</td>\n",
       "      <td>บ้านรักสา ศูนย์ดูแลผู้สูงอายุ และผู้ป่วยระยะพั...</td>\n",
       "      <td>กรุงเทพมหานคร</td>\n",
       "      <td>171 พระราม 9 ซอย 15/1 แขวงบางกะปิ เขตห้วยขวาง ...</td>\n",
       "      <td>13.755772</td>\n",
       "      <td>100.588694</td>\n",
       "      <td>063 762 4720</td>\n",
       "      <td>http://www.banraksa-wellbeing.com/</td>\n",
       "      <td>['วันจันทร์: เปิด 24 ชั่วโมง', 'วันอังคาร: เปิ...</td>\n",
       "      <td>https://maps.google.com/?cid=11835268588986243704</td>\n",
       "      <td>19990</td>\n",
       "      <td>https://banraksa-wellbeing.com/wp-content/uplo...</td>\n",
       "      <td>https://www.thaielder.com/datas/nursinghome/57...</td>\n",
       "      <td>https://www.thaielder.com/datas/nursinghome/57...</td>\n",
       "      <td>https://www.thaielder.com/datas/nursinghome/57...</td>\n",
       "      <td>https://www.thaielder.com/datas/nursinghome/57...</td>\n",
       "      <td>https://maps.google.com/maps/contrib/115858239...</td>\n",
       "    </tr>\n",
       "    <tr>\n",
       "      <th>...</th>\n",
       "      <td>...</td>\n",
       "      <td>...</td>\n",
       "      <td>...</td>\n",
       "      <td>...</td>\n",
       "      <td>...</td>\n",
       "      <td>...</td>\n",
       "      <td>...</td>\n",
       "      <td>...</td>\n",
       "      <td>...</td>\n",
       "      <td>...</td>\n",
       "      <td>...</td>\n",
       "      <td>...</td>\n",
       "      <td>...</td>\n",
       "      <td>...</td>\n",
       "      <td>...</td>\n",
       "      <td>...</td>\n",
       "      <td>...</td>\n",
       "    </tr>\n",
       "    <tr>\n",
       "      <th>101</th>\n",
       "      <td>ChIJwSG62kaNFjERwr8yjSnz8Ms</td>\n",
       "      <td>ดูแลผู้สูงอายุ อุบลราชธานี แพรวาเนอร์สซิ่งโฮม</td>\n",
       "      <td>อุบลราชธานี</td>\n",
       "      <td>84 11 บ้านท่าเจริญ ตำบล ท่าลาด อำเภอวารินชำราบ...</td>\n",
       "      <td>15.137045</td>\n",
       "      <td>104.726871</td>\n",
       "      <td>092 783 9686</td>\n",
       "      <td>https://prava.yellowpages.co.th/</td>\n",
       "      <td>['วันจันทร์: 8:00–21:00', 'วันอังคาร: 8:00–21:...</td>\n",
       "      <td>https://maps.google.com/?cid=14695512943898050498</td>\n",
       "      <td>15000</td>\n",
       "      <td>https://www.tophitthailand.com/wp-content/uplo...</td>\n",
       "      <td>NaN</td>\n",
       "      <td>NaN</td>\n",
       "      <td>NaN</td>\n",
       "      <td>NaN</td>\n",
       "      <td>-</td>\n",
       "    </tr>\n",
       "    <tr>\n",
       "      <th>102</th>\n",
       "      <td>ChIJX1xpbP2HFjER6l7noHLFvDo</td>\n",
       "      <td>ศูนย์ดูแลผู้สูงอายุและฟื้นฟูสุขภาพไอแคร์ ( iCa...</td>\n",
       "      <td>อุบลราชธานี</td>\n",
       "      <td>318/118 บ้านค้อเหนือ หมู่12, ตำบล กุดลาด อำเภอ...</td>\n",
       "      <td>15.251325</td>\n",
       "      <td>104.898753</td>\n",
       "      <td>066 109 4500</td>\n",
       "      <td>http://www.icarenursinghome.com/</td>\n",
       "      <td>['วันจันทร์: 8:00–18:00', 'วันอังคาร: 8:00–18:...</td>\n",
       "      <td>https://maps.google.com/?cid=4232474845937884906</td>\n",
       "      <td>14000</td>\n",
       "      <td>https://lh5.googleusercontent.com/p/AF1QipN91i...</td>\n",
       "      <td>https://lh5.googleusercontent.com/p/AF1QipMu22...</td>\n",
       "      <td>https://lh5.googleusercontent.com/p/AF1QipO_zF...</td>\n",
       "      <td>https://lh5.googleusercontent.com/p/AF1QipO_zF...</td>\n",
       "      <td>https://lh5.googleusercontent.com/p/AF1QipO4Al...</td>\n",
       "      <td>https://maps.google.com/maps/contrib/102286516...</td>\n",
       "    </tr>\n",
       "    <tr>\n",
       "      <th>103</th>\n",
       "      <td>NaN</td>\n",
       "      <td>บ้านลลิสา Nursing home อุบลราชธานี</td>\n",
       "      <td>อุบลราชธานี</td>\n",
       "      <td>222 ตำบล แจระแม อำเภอเมืองอุบลราชธานี อุบลราชธ...</td>\n",
       "      <td>15.263856</td>\n",
       "      <td>104.817413</td>\n",
       "      <td>065 469 9569</td>\n",
       "      <td>https://baanlalisa.com/nursing-home-ubon/</td>\n",
       "      <td>['วันจันทร์: เปิด 24 ชั่วโมง', 'วันอังคาร: เปิ...</td>\n",
       "      <td>https://maps.app.goo.gl/kXwVq6gvXzwpCFKS8</td>\n",
       "      <td>20000</td>\n",
       "      <td>https://baanlalisa.com/wp-content/uploads/2024...</td>\n",
       "      <td>https://baanlalisa.com/wp-content/uploads/2024...</td>\n",
       "      <td>https://baanlalisa.com/wp-content/uploads/2024...</td>\n",
       "      <td>https://baanlalisa.com/wp-content/uploads/2024...</td>\n",
       "      <td>NaN</td>\n",
       "      <td>NaN</td>\n",
       "    </tr>\n",
       "    <tr>\n",
       "      <th>104</th>\n",
       "      <td>NaN</td>\n",
       "      <td>บ้านสุขสบาย โฮมแคร์ อุดรธานี</td>\n",
       "      <td>อุุดรธานี</td>\n",
       "      <td>750/13 บ้านเลื่อม อำเภอเมืองอุดรธานี อุดรธานี ...</td>\n",
       "      <td>17.443305</td>\n",
       "      <td>102.765604</td>\n",
       "      <td>081 545 1119</td>\n",
       "      <td>https://www.facebook.com/profile.php?id=100063...</td>\n",
       "      <td>['วันจันทร์: เปิด 24 ชั่วโมง', 'วันอังคาร: เปิ...</td>\n",
       "      <td>https://maps.app.goo.gl/389Q4tRQsh2WKsU77</td>\n",
       "      <td>18000</td>\n",
       "      <td>https://lh3.googleusercontent.com/p/AF1QipMVHJ...</td>\n",
       "      <td>https://lh3.googleusercontent.com/p/AF1QipO5Wv...</td>\n",
       "      <td>https://lh3.googleusercontent.com/p/AF1QipO_8s...</td>\n",
       "      <td>https://lh3.googleusercontent.com/p/AF1QipOqJF...</td>\n",
       "      <td>NaN</td>\n",
       "      <td>NaN</td>\n",
       "    </tr>\n",
       "    <tr>\n",
       "      <th>105</th>\n",
       "      <td>NaN</td>\n",
       "      <td>ดารารัก เนอร์สซิ่งโฮม</td>\n",
       "      <td>อุุดรธานี</td>\n",
       "      <td>330/244 หมู่ 1 ตำบลบ้านจั่น หมู่บ้านธนาดรโฮมเพ...</td>\n",
       "      <td>17.356125</td>\n",
       "      <td>102.804061</td>\n",
       "      <td>098 129 3271</td>\n",
       "      <td>https://www.facebook.com/profile.php?id=100045...</td>\n",
       "      <td>['วันจันทร์: เปิด 24 ชั่วโมง', 'วันอังคาร: เปิ...</td>\n",
       "      <td>https://maps.app.goo.gl/i1AiK1J8RqcDzP547</td>\n",
       "      <td>28000</td>\n",
       "      <td>https://www.thaielder.com/datas/nursinghome/47...</td>\n",
       "      <td>https://www.thaielder.com/datas/nursinghome/47...</td>\n",
       "      <td>https://www.thaielder.com/datas/nursinghome/47...</td>\n",
       "      <td>https://www.thaielder.com/datas/nursinghome/47...</td>\n",
       "      <td>NaN</td>\n",
       "      <td>NaN</td>\n",
       "    </tr>\n",
       "  </tbody>\n",
       "</table>\n",
       "<p>106 rows × 17 columns</p>\n",
       "</div>"
      ],
      "text/plain": [
       "                        place_id  \\\n",
       "0    ChIJv4Z8OdphHTERROz2ukJwfQs   \n",
       "1    ChIJGXGLHxlvHTERLQXQ9DJDCWg   \n",
       "2    ChIJIRi7E7WR4jARWmz_-yNxkEw   \n",
       "3    ChIJTTcsSU6Y4jARkXrTKuLwSoQ   \n",
       "4    ChIJk6AU3Xef4jAReBrdYxNSP6Q   \n",
       "..                           ...   \n",
       "101  ChIJwSG62kaNFjERwr8yjSnz8Ms   \n",
       "102  ChIJX1xpbP2HFjER6l7noHLFvDo   \n",
       "103                          NaN   \n",
       "104                          NaN   \n",
       "105                          NaN   \n",
       "\n",
       "                                                  Name       Province  \\\n",
       "0    ศูนย์ดูแลผู้สูงอายุ บ้านพักคนชรา พระราม9 รามคำ...  กรุงเทพมหานคร   \n",
       "1    บ้านกฤษณา ศูนย์ดูแลผู้สูงอายุ Krissana Nursing...  กรุงเทพมหานคร   \n",
       "2        ศูนย์ดูแลผู้สูงอายุ | The Rich Nursing Resort  กรุงเทพมหานคร   \n",
       "3     สถานพักฟื้นผู้ป่วย ผู้สูงอายุ เพชรเกษม เฮลท์แคร์  กรุงเทพมหานคร   \n",
       "4    บ้านรักสา ศูนย์ดูแลผู้สูงอายุ และผู้ป่วยระยะพั...  กรุงเทพมหานคร   \n",
       "..                                                 ...            ...   \n",
       "101      ดูแลผู้สูงอายุ อุบลราชธานี แพรวาเนอร์สซิ่งโฮม    อุบลราชธานี   \n",
       "102  ศูนย์ดูแลผู้สูงอายุและฟื้นฟูสุขภาพไอแคร์ ( iCa...    อุบลราชธานี   \n",
       "103                 บ้านลลิสา Nursing home อุบลราชธานี    อุบลราชธานี   \n",
       "104                       บ้านสุขสบาย โฮมแคร์ อุดรธานี      อุุดรธานี   \n",
       "105                              ดารารัก เนอร์สซิ่งโฮม      อุุดรธานี   \n",
       "\n",
       "                                               Address   latitude   longitude  \\\n",
       "0    21 ซอย พระราม 9 ซอย 49 แขวงสวนหลวง เขตสวนหลวง ...  13.747862  100.631284   \n",
       "1    ถนน รามคำแหง แขวงมีนบุรี เขตมีนบุรี กรุงเทพมหา...  13.794736  100.709501   \n",
       "2    760 1 ถ. บรมราชชนนี แขวงศาลาธรรมสพน์ เขตทวีวัฒ...  13.790170  100.350272   \n",
       "3    164 177-178 ซอย เพชรเกษม 14 แขวงวัดท่าพระ เขตบ...  13.729017  100.471641   \n",
       "4    171 พระราม 9 ซอย 15/1 แขวงบางกะปิ เขตห้วยขวาง ...  13.755772  100.588694   \n",
       "..                                                 ...        ...         ...   \n",
       "101  84 11 บ้านท่าเจริญ ตำบล ท่าลาด อำเภอวารินชำราบ...  15.137045  104.726871   \n",
       "102  318/118 บ้านค้อเหนือ หมู่12, ตำบล กุดลาด อำเภอ...  15.251325  104.898753   \n",
       "103  222 ตำบล แจระแม อำเภอเมืองอุบลราชธานี อุบลราชธ...  15.263856  104.817413   \n",
       "104  750/13 บ้านเลื่อม อำเภอเมืองอุดรธานี อุดรธานี ...  17.443305  102.765604   \n",
       "105  330/244 หมู่ 1 ตำบลบ้านจั่น หมู่บ้านธนาดรโฮมเพ...  17.356125  102.804061   \n",
       "\n",
       "              Tel                                            WebSite  \\\n",
       "0    092 614 9542                   http://www.icareseniorshome.com/   \n",
       "1    086 034 0236  https://www.facebook.com/KrissanaNursingCare/?...   \n",
       "2    092 645 8126                     http://www.therichnursing.com/   \n",
       "3    093 592 2595                    https://www.therichnursing.com/   \n",
       "4    063 762 4720                 http://www.banraksa-wellbeing.com/   \n",
       "..            ...                                                ...   \n",
       "101  092 783 9686                   https://prava.yellowpages.co.th/   \n",
       "102  066 109 4500                   http://www.icarenursinghome.com/   \n",
       "103  065 469 9569          https://baanlalisa.com/nursing-home-ubon/   \n",
       "104  081 545 1119  https://www.facebook.com/profile.php?id=100063...   \n",
       "105  098 129 3271  https://www.facebook.com/profile.php?id=100045...   \n",
       "\n",
       "                                              TimeOpen  \\\n",
       "0    ['วันจันทร์: เปิด 24 ชั่วโมง', 'วันอังคาร: เปิ...   \n",
       "1    ['วันจันทร์: เปิด 24 ชั่วโมง', 'วันอังคาร: เปิ...   \n",
       "2    ['วันจันทร์: เปิด 24 ชั่วโมง', 'วันอังคาร: เปิ...   \n",
       "3    ['วันจันทร์: เปิด 24 ชั่วโมง', 'วันอังคาร: เปิ...   \n",
       "4    ['วันจันทร์: เปิด 24 ชั่วโมง', 'วันอังคาร: เปิ...   \n",
       "..                                                 ...   \n",
       "101  ['วันจันทร์: 8:00–21:00', 'วันอังคาร: 8:00–21:...   \n",
       "102  ['วันจันทร์: 8:00–18:00', 'วันอังคาร: 8:00–18:...   \n",
       "103  ['วันจันทร์: เปิด 24 ชั่วโมง', 'วันอังคาร: เปิ...   \n",
       "104  ['วันจันทร์: เปิด 24 ชั่วโมง', 'วันอังคาร: เปิ...   \n",
       "105  ['วันจันทร์: เปิด 24 ชั่วโมง', 'วันอังคาร: เปิ...   \n",
       "\n",
       "                                        LinkGoogleMaps  price  \\\n",
       "0      https://maps.google.com/?cid=827941338412936260  15500   \n",
       "1     https://maps.google.com/?cid=7496596940869600557  22000   \n",
       "2     https://maps.google.com/?cid=5517033942894472282  22000   \n",
       "3     https://maps.google.com/?cid=9532696415454853777  17000   \n",
       "4    https://maps.google.com/?cid=11835268588986243704  19990   \n",
       "..                                                 ...    ...   \n",
       "101  https://maps.google.com/?cid=14695512943898050498  15000   \n",
       "102   https://maps.google.com/?cid=4232474845937884906  14000   \n",
       "103          https://maps.app.goo.gl/kXwVq6gvXzwpCFKS8  20000   \n",
       "104          https://maps.app.goo.gl/389Q4tRQsh2WKsU77  18000   \n",
       "105          https://maps.app.goo.gl/i1AiK1J8RqcDzP547  28000   \n",
       "\n",
       "                                                  img1  \\\n",
       "0        https://fi.lnwfile.com/_/fi/_raw/fb/nq/n4.jpg   \n",
       "1    https://www.thaielder.com/datas/nursinghome/35...   \n",
       "2    https://www.therichnursing.com/wp-content/uplo...   \n",
       "3    https://www.thaielder.com/datas/nursinghome/31...   \n",
       "4    https://banraksa-wellbeing.com/wp-content/uplo...   \n",
       "..                                                 ...   \n",
       "101  https://www.tophitthailand.com/wp-content/uplo...   \n",
       "102  https://lh5.googleusercontent.com/p/AF1QipN91i...   \n",
       "103  https://baanlalisa.com/wp-content/uploads/2024...   \n",
       "104  https://lh3.googleusercontent.com/p/AF1QipMVHJ...   \n",
       "105  https://www.thaielder.com/datas/nursinghome/47...   \n",
       "\n",
       "                                                  img2  \\\n",
       "0    https://cdn.shopify.com/s/files/1/0800/8155/16...   \n",
       "1    https://www.thaielder.com/datas/nursinghome/35...   \n",
       "2    https://www.therichnursing.com/wp-content/uplo...   \n",
       "3    https://www.thaielder.com/datas/nursinghome/31...   \n",
       "4    https://www.thaielder.com/datas/nursinghome/57...   \n",
       "..                                                 ...   \n",
       "101                                                NaN   \n",
       "102  https://lh5.googleusercontent.com/p/AF1QipMu22...   \n",
       "103  https://baanlalisa.com/wp-content/uploads/2024...   \n",
       "104  https://lh3.googleusercontent.com/p/AF1QipO5Wv...   \n",
       "105  https://www.thaielder.com/datas/nursinghome/47...   \n",
       "\n",
       "                                                  img3  \\\n",
       "0        https://fi.lnwfile.com/_/fi/_raw/h7/eo/ny.jpg   \n",
       "1    https://www.thaielder.com/datas/nursinghome/35...   \n",
       "2    https://www.therichnursing.com/wp-content/uplo...   \n",
       "3    https://www.thaielder.com/datas/nursinghome/31...   \n",
       "4    https://www.thaielder.com/datas/nursinghome/57...   \n",
       "..                                                 ...   \n",
       "101                                                NaN   \n",
       "102  https://lh5.googleusercontent.com/p/AF1QipO_zF...   \n",
       "103  https://baanlalisa.com/wp-content/uploads/2024...   \n",
       "104  https://lh3.googleusercontent.com/p/AF1QipO_8s...   \n",
       "105  https://www.thaielder.com/datas/nursinghome/47...   \n",
       "\n",
       "                                                  img4  \\\n",
       "0        https://fi.lnwfile.com/_/fi/_raw/v8/rg/9p.jpg   \n",
       "1    https://www.thaielder.com/datas/nursinghome/35...   \n",
       "2                                                  NaN   \n",
       "3    https://www.thaielder.com/datas/nursinghome/31...   \n",
       "4    https://www.thaielder.com/datas/nursinghome/57...   \n",
       "..                                                 ...   \n",
       "101                                                NaN   \n",
       "102  https://lh5.googleusercontent.com/p/AF1QipO_zF...   \n",
       "103  https://baanlalisa.com/wp-content/uploads/2024...   \n",
       "104  https://lh3.googleusercontent.com/p/AF1QipOqJF...   \n",
       "105  https://www.thaielder.com/datas/nursinghome/47...   \n",
       "\n",
       "                                                  img5  \\\n",
       "0                  https://inwfile.com/s-fi/34x7aq.jpg   \n",
       "1    https://www.thaielder.com/datas/nursinghome/35...   \n",
       "2                                                  NaN   \n",
       "3    https://www.thaielder.com/datas/nursinghome/31...   \n",
       "4    https://www.thaielder.com/datas/nursinghome/57...   \n",
       "..                                                 ...   \n",
       "101                                                NaN   \n",
       "102  https://lh5.googleusercontent.com/p/AF1QipO4Al...   \n",
       "103                                                NaN   \n",
       "104                                                NaN   \n",
       "105                                                NaN   \n",
       "\n",
       "                                      รูปภาพ Reference  \n",
       "0    https://maps.google.com/maps/contrib/114683092...  \n",
       "1    https://maps.google.com/maps/contrib/101129824...  \n",
       "2    https://maps.google.com/maps/contrib/117449340...  \n",
       "3    https://maps.google.com/maps/contrib/104991582...  \n",
       "4    https://maps.google.com/maps/contrib/115858239...  \n",
       "..                                                 ...  \n",
       "101                                                  -  \n",
       "102  https://maps.google.com/maps/contrib/102286516...  \n",
       "103                                                NaN  \n",
       "104                                                NaN  \n",
       "105                                                NaN  \n",
       "\n",
       "[106 rows x 17 columns]"
      ]
     },
     "execution_count": 50,
     "metadata": {},
     "output_type": "execute_result"
    }
   ],
   "source": [
    "import pandas as pd\n",
    "\n",
    "\n",
    "nursing_houses = pd.read_excel(\"DataNursingHouses.ods\", engine='odf')\n",
    "\n",
    "nursing_houses"
   ]
  },
  {
   "cell_type": "code",
   "execution_count": 2,
   "metadata": {},
   "outputs": [
    {
     "name": "stderr",
     "output_type": "stream",
     "text": [
      "C:\\Users\\User\\AppData\\Local\\Temp\\ipykernel_2888\\1379660340.py:1: FutureWarning: DataFrame.applymap has been deprecated. Use DataFrame.map instead.\n",
      "  contains_zero_width_space = nursing_houses.applymap(lambda x: \"\\u200b\" in x if isinstance(x, str) else False)\n"
     ]
    },
    {
     "data": {
      "text/html": [
       "<div>\n",
       "<style scoped>\n",
       "    .dataframe tbody tr th:only-of-type {\n",
       "        vertical-align: middle;\n",
       "    }\n",
       "\n",
       "    .dataframe tbody tr th {\n",
       "        vertical-align: top;\n",
       "    }\n",
       "\n",
       "    .dataframe thead th {\n",
       "        text-align: right;\n",
       "    }\n",
       "</style>\n",
       "<table border=\"1\" class=\"dataframe\">\n",
       "  <thead>\n",
       "    <tr style=\"text-align: right;\">\n",
       "      <th></th>\n",
       "      <th>place_id</th>\n",
       "      <th>Name</th>\n",
       "      <th>Province</th>\n",
       "      <th>Address</th>\n",
       "      <th>latitude</th>\n",
       "      <th>longitude</th>\n",
       "      <th>Tel</th>\n",
       "      <th>WebSite</th>\n",
       "      <th>TimeOpen</th>\n",
       "      <th>LinkGoogleMaps</th>\n",
       "      <th>price</th>\n",
       "      <th>img1</th>\n",
       "      <th>img2</th>\n",
       "      <th>img3</th>\n",
       "      <th>img4</th>\n",
       "      <th>img5</th>\n",
       "      <th>รูปภาพ Reference</th>\n",
       "    </tr>\n",
       "  </thead>\n",
       "  <tbody>\n",
       "    <tr>\n",
       "      <th>56</th>\n",
       "      <td>NaN</td>\n",
       "      <td>สุขสบายเนอร์สซิงโฮม (It-carehome)</td>\n",
       "      <td>นนทบุรี</td>\n",
       "      <td>​ ซ​ 100/105 หมู่บ้านลานทอง 1 ถ. ติวานนท์ อำเภ...</td>\n",
       "      <td>13.926891</td>\n",
       "      <td>100.515397</td>\n",
       "      <td>084 149 1492</td>\n",
       "      <td>https://lt-carehome.com/</td>\n",
       "      <td>['วันจันทร์: เปิด 24 ชั่วโมง', 'วันอังคาร: เปิ...</td>\n",
       "      <td>https://maps.app.goo.gl/8i8SD73ZrUU1X2dj8</td>\n",
       "      <td>16000</td>\n",
       "      <td>https://lt-carehome.com/sites/6352/files/u/IMG...</td>\n",
       "      <td>https://lt-carehome.com/sites/6352/files/u/111...</td>\n",
       "      <td>https://lt-carehome.com/sites/6352/files/u/111...</td>\n",
       "      <td>https://lt-carehome.com/sites/6352/files/u/9d3...</td>\n",
       "      <td>NaN</td>\n",
       "      <td>NaN</td>\n",
       "    </tr>\n",
       "  </tbody>\n",
       "</table>\n",
       "</div>"
      ],
      "text/plain": [
       "   place_id                               Name Province  \\\n",
       "56      NaN  สุขสบายเนอร์สซิงโฮม (It-carehome)  นนทบุรี   \n",
       "\n",
       "                                              Address   latitude   longitude  \\\n",
       "56  ​ ซ​ 100/105 หมู่บ้านลานทอง 1 ถ. ติวานนท์ อำเภ...  13.926891  100.515397   \n",
       "\n",
       "             Tel                   WebSite  \\\n",
       "56  084 149 1492  https://lt-carehome.com/   \n",
       "\n",
       "                                             TimeOpen  \\\n",
       "56  ['วันจันทร์: เปิด 24 ชั่วโมง', 'วันอังคาร: เปิ...   \n",
       "\n",
       "                               LinkGoogleMaps  price  \\\n",
       "56  https://maps.app.goo.gl/8i8SD73ZrUU1X2dj8  16000   \n",
       "\n",
       "                                                 img1  \\\n",
       "56  https://lt-carehome.com/sites/6352/files/u/IMG...   \n",
       "\n",
       "                                                 img2  \\\n",
       "56  https://lt-carehome.com/sites/6352/files/u/111...   \n",
       "\n",
       "                                                 img3  \\\n",
       "56  https://lt-carehome.com/sites/6352/files/u/111...   \n",
       "\n",
       "                                                 img4 img5 รูปภาพ Reference  \n",
       "56  https://lt-carehome.com/sites/6352/files/u/9d3...  NaN              NaN  "
      ]
     },
     "execution_count": 2,
     "metadata": {},
     "output_type": "execute_result"
    }
   ],
   "source": [
    "contains_zero_width_space = nursing_houses.applymap(lambda x: \"\\u200b\" in x if isinstance(x, str) else False)\n",
    "\n",
    "\n",
    "nursing_houses[contains_zero_width_space.any(axis=1)]"
   ]
  },
  {
   "cell_type": "code",
   "execution_count": 3,
   "metadata": {},
   "outputs": [],
   "source": [
    "nursing_houses.dropna(subset=['price'], inplace=True)"
   ]
  },
  {
   "cell_type": "code",
   "execution_count": 4,
   "metadata": {},
   "outputs": [],
   "source": [
    "nursing_houses.reset_index(drop=True, inplace=True)"
   ]
  },
  {
   "cell_type": "markdown",
   "metadata": {},
   "source": [
    "# RAG"
   ]
  },
  {
   "cell_type": "code",
   "execution_count": 5,
   "metadata": {},
   "outputs": [
    {
     "name": "stdout",
     "output_type": "stream",
     "text": [
      "Requirement already satisfied: langchain in c:\\users\\user\\appdata\\local\\programs\\python\\python310\\lib\\site-packages (0.3.14)\n",
      "Requirement already satisfied: langchain-google-genai in c:\\users\\user\\appdata\\local\\programs\\python\\python310\\lib\\site-packages (2.0.9)\n",
      "Requirement already satisfied: pydantic<3.0.0,>=2.7.4 in c:\\users\\user\\appdata\\local\\programs\\python\\python310\\lib\\site-packages (from langchain) (2.9.2)\n",
      "Requirement already satisfied: requests<3,>=2 in c:\\users\\user\\appdata\\local\\programs\\python\\python310\\lib\\site-packages (from langchain) (2.32.3)\n",
      "Requirement already satisfied: langchain-core<0.4.0,>=0.3.29 in c:\\users\\user\\appdata\\local\\programs\\python\\python310\\lib\\site-packages (from langchain) (0.3.30)\n",
      "Requirement already satisfied: SQLAlchemy<3,>=1.4 in c:\\users\\user\\appdata\\local\\programs\\python\\python310\\lib\\site-packages (from langchain) (2.0.35)\n",
      "Requirement already satisfied: PyYAML>=5.3 in c:\\users\\user\\appdata\\local\\programs\\python\\python310\\lib\\site-packages (from langchain) (6.0.2)\n",
      "Requirement already satisfied: async-timeout<5.0.0,>=4.0.0 in c:\\users\\user\\appdata\\local\\programs\\python\\python310\\lib\\site-packages (from langchain) (4.0.3)\n",
      "Requirement already satisfied: numpy<2,>=1.22.4 in c:\\users\\user\\appdata\\local\\programs\\python\\python310\\lib\\site-packages (from langchain) (1.26.4)\n",
      "Requirement already satisfied: tenacity!=8.4.0,<10,>=8.1.0 in c:\\users\\user\\appdata\\local\\programs\\python\\python310\\lib\\site-packages (from langchain) (9.0.0)\n",
      "Requirement already satisfied: langsmith<0.3,>=0.1.17 in c:\\users\\user\\appdata\\local\\programs\\python\\python310\\lib\\site-packages (from langchain) (0.1.143)\n",
      "Requirement already satisfied: aiohttp<4.0.0,>=3.8.3 in c:\\users\\user\\appdata\\local\\programs\\python\\python310\\lib\\site-packages (from langchain) (3.10.10)\n",
      "Requirement already satisfied: langchain-text-splitters<0.4.0,>=0.3.3 in c:\\users\\user\\appdata\\local\\programs\\python\\python310\\lib\\site-packages (from langchain) (0.3.5)\n",
      "Requirement already satisfied: filetype<2.0.0,>=1.2.0 in c:\\users\\user\\appdata\\local\\programs\\python\\python310\\lib\\site-packages (from langchain-google-genai) (1.2.0)\n",
      "Requirement already satisfied: google-generativeai<0.9.0,>=0.8.0 in c:\\users\\user\\appdata\\local\\programs\\python\\python310\\lib\\site-packages (from langchain-google-genai) (0.8.3)\n",
      "Requirement already satisfied: frozenlist>=1.1.1 in c:\\users\\user\\appdata\\local\\programs\\python\\python310\\lib\\site-packages (from aiohttp<4.0.0,>=3.8.3->langchain) (1.5.0)\n",
      "Requirement already satisfied: attrs>=17.3.0 in c:\\users\\user\\appdata\\local\\programs\\python\\python310\\lib\\site-packages (from aiohttp<4.0.0,>=3.8.3->langchain) (24.2.0)\n",
      "Requirement already satisfied: aiohappyeyeballs>=2.3.0 in c:\\users\\user\\appdata\\local\\programs\\python\\python310\\lib\\site-packages (from aiohttp<4.0.0,>=3.8.3->langchain) (2.4.3)\n",
      "Requirement already satisfied: yarl<2.0,>=1.12.0 in c:\\users\\user\\appdata\\local\\programs\\python\\python310\\lib\\site-packages (from aiohttp<4.0.0,>=3.8.3->langchain) (1.17.0)\n",
      "Requirement already satisfied: multidict<7.0,>=4.5 in c:\\users\\user\\appdata\\local\\programs\\python\\python310\\lib\\site-packages (from aiohttp<4.0.0,>=3.8.3->langchain) (6.1.0)\n",
      "Requirement already satisfied: aiosignal>=1.1.2 in c:\\users\\user\\appdata\\local\\programs\\python\\python310\\lib\\site-packages (from aiohttp<4.0.0,>=3.8.3->langchain) (1.3.1)\n",
      "Requirement already satisfied: typing-extensions in c:\\users\\user\\appdata\\roaming\\python\\python310\\site-packages (from google-generativeai<0.9.0,>=0.8.0->langchain-google-genai) (4.12.2)\n",
      "Requirement already satisfied: google-api-core in c:\\users\\user\\appdata\\local\\programs\\python\\python310\\lib\\site-packages (from google-generativeai<0.9.0,>=0.8.0->langchain-google-genai) (2.23.0)\n",
      "Requirement already satisfied: google-api-python-client in c:\\users\\user\\appdata\\local\\programs\\python\\python310\\lib\\site-packages (from google-generativeai<0.9.0,>=0.8.0->langchain-google-genai) (2.153.0)\n",
      "Requirement already satisfied: tqdm in c:\\users\\user\\appdata\\local\\programs\\python\\python310\\lib\\site-packages (from google-generativeai<0.9.0,>=0.8.0->langchain-google-genai) (4.66.5)\n",
      "Requirement already satisfied: protobuf in c:\\users\\user\\appdata\\local\\programs\\python\\python310\\lib\\site-packages (from google-generativeai<0.9.0,>=0.8.0->langchain-google-genai) (5.28.3)\n",
      "Requirement already satisfied: google-ai-generativelanguage==0.6.10 in c:\\users\\user\\appdata\\local\\programs\\python\\python310\\lib\\site-packages (from google-generativeai<0.9.0,>=0.8.0->langchain-google-genai) (0.6.10)\n",
      "Requirement already satisfied: google-auth>=2.15.0 in c:\\users\\user\\appdata\\local\\programs\\python\\python310\\lib\\site-packages (from google-generativeai<0.9.0,>=0.8.0->langchain-google-genai) (2.36.0)\n",
      "Requirement already satisfied: proto-plus<2.0.0dev,>=1.22.3 in c:\\users\\user\\appdata\\local\\programs\\python\\python310\\lib\\site-packages (from google-ai-generativelanguage==0.6.10->google-generativeai<0.9.0,>=0.8.0->langchain-google-genai) (1.25.0)\n",
      "Requirement already satisfied: jsonpatch<2.0,>=1.33 in c:\\users\\user\\appdata\\local\\programs\\python\\python310\\lib\\site-packages (from langchain-core<0.4.0,>=0.3.29->langchain) (1.33)\n",
      "Requirement already satisfied: packaging<25,>=23.2 in c:\\users\\user\\appdata\\local\\programs\\python\\python310\\lib\\site-packages (from langchain-core<0.4.0,>=0.3.29->langchain) (24.1)\n",
      "Requirement already satisfied: httpx<1,>=0.23.0 in c:\\users\\user\\appdata\\local\\programs\\python\\python310\\lib\\site-packages (from langsmith<0.3,>=0.1.17->langchain) (0.27.2)\n",
      "Requirement already satisfied: orjson<4.0.0,>=3.9.14 in c:\\users\\user\\appdata\\local\\programs\\python\\python310\\lib\\site-packages (from langsmith<0.3,>=0.1.17->langchain) (3.10.11)\n",
      "Requirement already satisfied: requests-toolbelt<2.0.0,>=1.0.0 in c:\\users\\user\\appdata\\local\\programs\\python\\python310\\lib\\site-packages (from langsmith<0.3,>=0.1.17->langchain) (1.0.0)\n",
      "Requirement already satisfied: pydantic-core==2.23.4 in c:\\users\\user\\appdata\\local\\programs\\python\\python310\\lib\\site-packages (from pydantic<3.0.0,>=2.7.4->langchain) (2.23.4)\n",
      "Requirement already satisfied: annotated-types>=0.6.0 in c:\\users\\user\\appdata\\local\\programs\\python\\python310\\lib\\site-packages (from pydantic<3.0.0,>=2.7.4->langchain) (0.7.0)\n",
      "Requirement already satisfied: charset-normalizer<4,>=2 in c:\\users\\user\\appdata\\local\\programs\\python\\python310\\lib\\site-packages (from requests<3,>=2->langchain) (3.3.2)\n",
      "Requirement already satisfied: idna<4,>=2.5 in c:\\users\\user\\appdata\\local\\programs\\python\\python310\\lib\\site-packages (from requests<3,>=2->langchain) (3.7)\n",
      "Requirement already satisfied: certifi>=2017.4.17 in c:\\users\\user\\appdata\\local\\programs\\python\\python310\\lib\\site-packages (from requests<3,>=2->langchain) (2024.7.4)\n",
      "Requirement already satisfied: urllib3<3,>=1.21.1 in c:\\users\\user\\appdata\\local\\programs\\python\\python310\\lib\\site-packages (from requests<3,>=2->langchain) (2.2.2)\n",
      "Requirement already satisfied: greenlet!=0.4.17 in c:\\users\\user\\appdata\\local\\programs\\python\\python310\\lib\\site-packages (from SQLAlchemy<3,>=1.4->langchain) (3.1.1)\n",
      "Requirement already satisfied: rsa<5,>=3.1.4 in c:\\users\\user\\appdata\\local\\programs\\python\\python310\\lib\\site-packages (from google-auth>=2.15.0->google-generativeai<0.9.0,>=0.8.0->langchain-google-genai) (4.9)\n",
      "Requirement already satisfied: pyasn1-modules>=0.2.1 in c:\\users\\user\\appdata\\local\\programs\\python\\python310\\lib\\site-packages (from google-auth>=2.15.0->google-generativeai<0.9.0,>=0.8.0->langchain-google-genai) (0.4.1)\n",
      "Requirement already satisfied: cachetools<6.0,>=2.0.0 in c:\\users\\user\\appdata\\local\\programs\\python\\python310\\lib\\site-packages (from google-auth>=2.15.0->google-generativeai<0.9.0,>=0.8.0->langchain-google-genai) (5.5.0)\n",
      "Requirement already satisfied: httpcore==1.* in c:\\users\\user\\appdata\\local\\programs\\python\\python310\\lib\\site-packages (from httpx<1,>=0.23.0->langsmith<0.3,>=0.1.17->langchain) (1.0.5)\n",
      "Requirement already satisfied: anyio in c:\\users\\user\\appdata\\local\\programs\\python\\python310\\lib\\site-packages (from httpx<1,>=0.23.0->langsmith<0.3,>=0.1.17->langchain) (4.6.0)\n",
      "Requirement already satisfied: sniffio in c:\\users\\user\\appdata\\local\\programs\\python\\python310\\lib\\site-packages (from httpx<1,>=0.23.0->langsmith<0.3,>=0.1.17->langchain) (1.3.1)\n",
      "Requirement already satisfied: h11<0.15,>=0.13 in c:\\users\\user\\appdata\\local\\programs\\python\\python310\\lib\\site-packages (from httpcore==1.*->httpx<1,>=0.23.0->langsmith<0.3,>=0.1.17->langchain) (0.14.0)\n",
      "Requirement already satisfied: jsonpointer>=1.9 in c:\\users\\user\\appdata\\local\\programs\\python\\python310\\lib\\site-packages (from jsonpatch<2.0,>=1.33->langchain-core<0.4.0,>=0.3.29->langchain) (3.0.0)\n",
      "Requirement already satisfied: propcache>=0.2.0 in c:\\users\\user\\appdata\\local\\programs\\python\\python310\\lib\\site-packages (from yarl<2.0,>=1.12.0->aiohttp<4.0.0,>=3.8.3->langchain) (0.2.0)\n",
      "Requirement already satisfied: googleapis-common-protos<2.0.dev0,>=1.56.2 in c:\\users\\user\\appdata\\local\\programs\\python\\python310\\lib\\site-packages (from google-api-core->google-generativeai<0.9.0,>=0.8.0->langchain-google-genai) (1.66.0)\n",
      "Requirement already satisfied: uritemplate<5,>=3.0.1 in c:\\users\\user\\appdata\\local\\programs\\python\\python310\\lib\\site-packages (from google-api-python-client->google-generativeai<0.9.0,>=0.8.0->langchain-google-genai) (4.1.1)\n",
      "Requirement already satisfied: google-auth-httplib2<1.0.0,>=0.2.0 in c:\\users\\user\\appdata\\local\\programs\\python\\python310\\lib\\site-packages (from google-api-python-client->google-generativeai<0.9.0,>=0.8.0->langchain-google-genai) (0.2.0)\n",
      "Requirement already satisfied: httplib2<1.dev0,>=0.19.0 in c:\\users\\user\\appdata\\local\\programs\\python\\python310\\lib\\site-packages (from google-api-python-client->google-generativeai<0.9.0,>=0.8.0->langchain-google-genai) (0.22.0)\n",
      "Requirement already satisfied: colorama in c:\\users\\user\\appdata\\local\\programs\\python\\python310\\lib\\site-packages (from tqdm->google-generativeai<0.9.0,>=0.8.0->langchain-google-genai) (0.4.6)\n",
      "Requirement already satisfied: grpcio<2.0dev,>=1.33.2 in c:\\users\\user\\appdata\\local\\programs\\python\\python310\\lib\\site-packages (from google-api-core->google-generativeai<0.9.0,>=0.8.0->langchain-google-genai) (1.67.1)\n",
      "Requirement already satisfied: grpcio-status<2.0.dev0,>=1.33.2 in c:\\users\\user\\appdata\\local\\programs\\python\\python310\\lib\\site-packages (from google-api-core->google-generativeai<0.9.0,>=0.8.0->langchain-google-genai) (1.67.1)\n",
      "Requirement already satisfied: pyparsing!=3.0.0,!=3.0.1,!=3.0.2,!=3.0.3,<4,>=2.4.2 in c:\\users\\user\\appdata\\local\\programs\\python\\python310\\lib\\site-packages (from httplib2<1.dev0,>=0.19.0->google-api-python-client->google-generativeai<0.9.0,>=0.8.0->langchain-google-genai) (3.1.2)\n",
      "Requirement already satisfied: pyasn1<0.7.0,>=0.4.6 in c:\\users\\user\\appdata\\local\\programs\\python\\python310\\lib\\site-packages (from pyasn1-modules>=0.2.1->google-auth>=2.15.0->google-generativeai<0.9.0,>=0.8.0->langchain-google-genai) (0.6.1)\n",
      "Requirement already satisfied: exceptiongroup>=1.0.2 in c:\\users\\user\\appdata\\roaming\\python\\python310\\site-packages (from anyio->httpx<1,>=0.23.0->langsmith<0.3,>=0.1.17->langchain) (1.2.2)\n"
     ]
    },
    {
     "name": "stderr",
     "output_type": "stream",
     "text": [
      "\n",
      "[notice] A new release of pip available: 22.2.1 -> 25.0\n",
      "[notice] To update, run: python.exe -m pip install --upgrade pip\n"
     ]
    },
    {
     "name": "stdout",
     "output_type": "stream",
     "text": [
      "Requirement already satisfied: langchain-community in c:\\users\\user\\appdata\\local\\programs\\python\\python310\\lib\\site-packages (0.3.14)\n",
      "Collecting langchain-community\n",
      "  Downloading langchain_community-0.3.16-py3-none-any.whl (2.5 MB)\n",
      "     ---------------------------------------- 2.5/2.5 MB 17.8 MB/s eta 0:00:00\n",
      "Requirement already satisfied: dataclasses-json<0.7,>=0.5.7 in c:\\users\\user\\appdata\\local\\programs\\python\\python310\\lib\\site-packages (from langchain-community) (0.6.7)\n",
      "Requirement already satisfied: numpy<2,>=1.22.4 in c:\\users\\user\\appdata\\local\\programs\\python\\python310\\lib\\site-packages (from langchain-community) (1.26.4)\n",
      "Requirement already satisfied: PyYAML>=5.3 in c:\\users\\user\\appdata\\local\\programs\\python\\python310\\lib\\site-packages (from langchain-community) (6.0.2)\n",
      "Collecting langchain<0.4.0,>=0.3.16\n",
      "  Downloading langchain-0.3.17-py3-none-any.whl (1.0 MB)\n",
      "     ---------------------------------------- 1.0/1.0 MB 32.3 MB/s eta 0:00:00\n",
      "Requirement already satisfied: pydantic-settings<3.0.0,>=2.4.0 in c:\\users\\user\\appdata\\local\\programs\\python\\python310\\lib\\site-packages (from langchain-community) (2.6.1)\n",
      "Requirement already satisfied: langsmith<0.4,>=0.1.125 in c:\\users\\user\\appdata\\local\\programs\\python\\python310\\lib\\site-packages (from langchain-community) (0.1.143)\n",
      "Collecting langchain-core<0.4.0,>=0.3.32\n",
      "  Downloading langchain_core-0.3.33-py3-none-any.whl (412 kB)\n",
      "     ---------------------------------------- 412.7/412.7 kB ? eta 0:00:00\n",
      "Requirement already satisfied: httpx-sse<0.5.0,>=0.4.0 in c:\\users\\user\\appdata\\local\\programs\\python\\python310\\lib\\site-packages (from langchain-community) (0.4.0)\n",
      "Requirement already satisfied: requests<3,>=2 in c:\\users\\user\\appdata\\local\\programs\\python\\python310\\lib\\site-packages (from langchain-community) (2.32.3)\n",
      "Requirement already satisfied: tenacity!=8.4.0,<10,>=8.1.0 in c:\\users\\user\\appdata\\local\\programs\\python\\python310\\lib\\site-packages (from langchain-community) (9.0.0)\n",
      "Requirement already satisfied: SQLAlchemy<3,>=1.4 in c:\\users\\user\\appdata\\local\\programs\\python\\python310\\lib\\site-packages (from langchain-community) (2.0.35)\n",
      "Requirement already satisfied: aiohttp<4.0.0,>=3.8.3 in c:\\users\\user\\appdata\\local\\programs\\python\\python310\\lib\\site-packages (from langchain-community) (3.10.10)\n",
      "Requirement already satisfied: aiohappyeyeballs>=2.3.0 in c:\\users\\user\\appdata\\local\\programs\\python\\python310\\lib\\site-packages (from aiohttp<4.0.0,>=3.8.3->langchain-community) (2.4.3)\n",
      "Requirement already satisfied: yarl<2.0,>=1.12.0 in c:\\users\\user\\appdata\\local\\programs\\python\\python310\\lib\\site-packages (from aiohttp<4.0.0,>=3.8.3->langchain-community) (1.17.0)\n",
      "Requirement already satisfied: aiosignal>=1.1.2 in c:\\users\\user\\appdata\\local\\programs\\python\\python310\\lib\\site-packages (from aiohttp<4.0.0,>=3.8.3->langchain-community) (1.3.1)\n",
      "Requirement already satisfied: multidict<7.0,>=4.5 in c:\\users\\user\\appdata\\local\\programs\\python\\python310\\lib\\site-packages (from aiohttp<4.0.0,>=3.8.3->langchain-community) (6.1.0)\n",
      "Requirement already satisfied: async-timeout<5.0,>=4.0 in c:\\users\\user\\appdata\\local\\programs\\python\\python310\\lib\\site-packages (from aiohttp<4.0.0,>=3.8.3->langchain-community) (4.0.3)\n",
      "Requirement already satisfied: frozenlist>=1.1.1 in c:\\users\\user\\appdata\\local\\programs\\python\\python310\\lib\\site-packages (from aiohttp<4.0.0,>=3.8.3->langchain-community) (1.5.0)\n",
      "Requirement already satisfied: attrs>=17.3.0 in c:\\users\\user\\appdata\\local\\programs\\python\\python310\\lib\\site-packages (from aiohttp<4.0.0,>=3.8.3->langchain-community) (24.2.0)\n",
      "Requirement already satisfied: marshmallow<4.0.0,>=3.18.0 in c:\\users\\user\\appdata\\local\\programs\\python\\python310\\lib\\site-packages (from dataclasses-json<0.7,>=0.5.7->langchain-community) (3.23.1)\n",
      "Requirement already satisfied: typing-inspect<1,>=0.4.0 in c:\\users\\user\\appdata\\local\\programs\\python\\python310\\lib\\site-packages (from dataclasses-json<0.7,>=0.5.7->langchain-community) (0.9.0)\n",
      "Requirement already satisfied: pydantic<3.0.0,>=2.7.4 in c:\\users\\user\\appdata\\local\\programs\\python\\python310\\lib\\site-packages (from langchain<0.4.0,>=0.3.16->langchain-community) (2.9.2)\n",
      "Requirement already satisfied: langchain-text-splitters<0.4.0,>=0.3.3 in c:\\users\\user\\appdata\\local\\programs\\python\\python310\\lib\\site-packages (from langchain<0.4.0,>=0.3.16->langchain-community) (0.3.5)\n",
      "Requirement already satisfied: jsonpatch<2.0,>=1.33 in c:\\users\\user\\appdata\\local\\programs\\python\\python310\\lib\\site-packages (from langchain-core<0.4.0,>=0.3.32->langchain-community) (1.33)\n",
      "Requirement already satisfied: typing-extensions>=4.7 in c:\\users\\user\\appdata\\roaming\\python\\python310\\site-packages (from langchain-core<0.4.0,>=0.3.32->langchain-community) (4.12.2)\n",
      "Requirement already satisfied: packaging<25,>=23.2 in c:\\users\\user\\appdata\\local\\programs\\python\\python310\\lib\\site-packages (from langchain-core<0.4.0,>=0.3.32->langchain-community) (24.1)\n",
      "Requirement already satisfied: requests-toolbelt<2.0.0,>=1.0.0 in c:\\users\\user\\appdata\\local\\programs\\python\\python310\\lib\\site-packages (from langsmith<0.4,>=0.1.125->langchain-community) (1.0.0)\n",
      "Requirement already satisfied: httpx<1,>=0.23.0 in c:\\users\\user\\appdata\\local\\programs\\python\\python310\\lib\\site-packages (from langsmith<0.4,>=0.1.125->langchain-community) (0.27.2)\n",
      "Requirement already satisfied: orjson<4.0.0,>=3.9.14 in c:\\users\\user\\appdata\\local\\programs\\python\\python310\\lib\\site-packages (from langsmith<0.4,>=0.1.125->langchain-community) (3.10.11)\n",
      "Requirement already satisfied: python-dotenv>=0.21.0 in c:\\users\\user\\appdata\\local\\programs\\python\\python310\\lib\\site-packages (from pydantic-settings<3.0.0,>=2.4.0->langchain-community) (1.0.1)\n",
      "Requirement already satisfied: idna<4,>=2.5 in c:\\users\\user\\appdata\\local\\programs\\python\\python310\\lib\\site-packages (from requests<3,>=2->langchain-community) (3.7)\n",
      "Requirement already satisfied: urllib3<3,>=1.21.1 in c:\\users\\user\\appdata\\local\\programs\\python\\python310\\lib\\site-packages (from requests<3,>=2->langchain-community) (2.2.2)\n",
      "Requirement already satisfied: charset-normalizer<4,>=2 in c:\\users\\user\\appdata\\local\\programs\\python\\python310\\lib\\site-packages (from requests<3,>=2->langchain-community) (3.3.2)\n",
      "Requirement already satisfied: certifi>=2017.4.17 in c:\\users\\user\\appdata\\local\\programs\\python\\python310\\lib\\site-packages (from requests<3,>=2->langchain-community) (2024.7.4)\n",
      "Requirement already satisfied: greenlet!=0.4.17 in c:\\users\\user\\appdata\\local\\programs\\python\\python310\\lib\\site-packages (from SQLAlchemy<3,>=1.4->langchain-community) (3.1.1)\n",
      "Requirement already satisfied: sniffio in c:\\users\\user\\appdata\\local\\programs\\python\\python310\\lib\\site-packages (from httpx<1,>=0.23.0->langsmith<0.4,>=0.1.125->langchain-community) (1.3.1)\n",
      "Requirement already satisfied: httpcore==1.* in c:\\users\\user\\appdata\\local\\programs\\python\\python310\\lib\\site-packages (from httpx<1,>=0.23.0->langsmith<0.4,>=0.1.125->langchain-community) (1.0.5)\n",
      "Requirement already satisfied: anyio in c:\\users\\user\\appdata\\local\\programs\\python\\python310\\lib\\site-packages (from httpx<1,>=0.23.0->langsmith<0.4,>=0.1.125->langchain-community) (4.6.0)\n",
      "Requirement already satisfied: h11<0.15,>=0.13 in c:\\users\\user\\appdata\\local\\programs\\python\\python310\\lib\\site-packages (from httpcore==1.*->httpx<1,>=0.23.0->langsmith<0.4,>=0.1.125->langchain-community) (0.14.0)\n",
      "Requirement already satisfied: jsonpointer>=1.9 in c:\\users\\user\\appdata\\local\\programs\\python\\python310\\lib\\site-packages (from jsonpatch<2.0,>=1.33->langchain-core<0.4.0,>=0.3.32->langchain-community) (3.0.0)\n",
      "Requirement already satisfied: annotated-types>=0.6.0 in c:\\users\\user\\appdata\\local\\programs\\python\\python310\\lib\\site-packages (from pydantic<3.0.0,>=2.7.4->langchain<0.4.0,>=0.3.16->langchain-community) (0.7.0)\n",
      "Requirement already satisfied: pydantic-core==2.23.4 in c:\\users\\user\\appdata\\local\\programs\\python\\python310\\lib\\site-packages (from pydantic<3.0.0,>=2.7.4->langchain<0.4.0,>=0.3.16->langchain-community) (2.23.4)\n",
      "Requirement already satisfied: mypy-extensions>=0.3.0 in c:\\users\\user\\appdata\\local\\programs\\python\\python310\\lib\\site-packages (from typing-inspect<1,>=0.4.0->dataclasses-json<0.7,>=0.5.7->langchain-community) (1.0.0)\n",
      "Requirement already satisfied: propcache>=0.2.0 in c:\\users\\user\\appdata\\local\\programs\\python\\python310\\lib\\site-packages (from yarl<2.0,>=1.12.0->aiohttp<4.0.0,>=3.8.3->langchain-community) (0.2.0)\n",
      "Requirement already satisfied: exceptiongroup>=1.0.2 in c:\\users\\user\\appdata\\roaming\\python\\python310\\site-packages (from anyio->httpx<1,>=0.23.0->langsmith<0.4,>=0.1.125->langchain-community) (1.2.2)\n",
      "Installing collected packages: langchain-core, langchain, langchain-community\n",
      "  Attempting uninstall: langchain-core\n",
      "    Found existing installation: langchain-core 0.3.30\n",
      "    Uninstalling langchain-core-0.3.30:\n",
      "      Successfully uninstalled langchain-core-0.3.30\n",
      "  Attempting uninstall: langchain\n",
      "    Found existing installation: langchain 0.3.14\n",
      "    Uninstalling langchain-0.3.14:\n",
      "      Successfully uninstalled langchain-0.3.14\n",
      "  Attempting uninstall: langchain-community\n",
      "    Found existing installation: langchain-community 0.3.14\n",
      "    Uninstalling langchain-community-0.3.14:\n",
      "      Successfully uninstalled langchain-community-0.3.14\n",
      "Successfully installed langchain-0.3.17 langchain-community-0.3.16 langchain-core-0.3.33\n"
     ]
    },
    {
     "name": "stderr",
     "output_type": "stream",
     "text": [
      "\n",
      "[notice] A new release of pip available: 22.2.1 -> 25.0\n",
      "[notice] To update, run: python.exe -m pip install --upgrade pip\n"
     ]
    }
   ],
   "source": [
    "!pip install langchain langchain-google-genai\n",
    "!pip install -U langchain-community"
   ]
  },
  {
   "cell_type": "code",
   "execution_count": 2,
   "metadata": {},
   "outputs": [],
   "source": [
    "from langchain_google_genai import GoogleGenerativeAI\n",
    "from langchain_core.prompts import ChatPromptTemplate\n",
    "from dotenv import load_dotenv\n",
    "import os\n",
    "\n",
    "load_dotenv()\n",
    "GOOGLE_API_KEY = os.getenv('GOOGLE_API_KEY')\n"
   ]
  },
  {
   "cell_type": "code",
   "execution_count": 46,
   "metadata": {},
   "outputs": [
    {
     "data": {
      "application/vnd.jupyter.widget-view+json": {
       "model_id": "0c53c4b2449c443490973c2d9290bdda",
       "version_major": 2,
       "version_minor": 0
      },
      "text/plain": [
       "modules.json:   0%|          | 0.00/387 [00:00<?, ?B/s]"
      ]
     },
     "metadata": {},
     "output_type": "display_data"
    },
    {
     "name": "stderr",
     "output_type": "stream",
     "text": [
      "c:\\Users\\User\\AppData\\Local\\Programs\\Python\\Python310\\lib\\site-packages\\huggingface_hub\\file_download.py:159: UserWarning: `huggingface_hub` cache-system uses symlinks by default to efficiently store duplicated files but your machine does not support them in C:\\Users\\User\\.cache\\huggingface\\hub\\models--intfloat--multilingual-e5-small. Caching files will still work but in a degraded version that might require more space on your disk. This warning can be disabled by setting the `HF_HUB_DISABLE_SYMLINKS_WARNING` environment variable. For more details, see https://huggingface.co/docs/huggingface_hub/how-to-cache#limitations.\n",
      "To support symlinks on Windows, you either need to activate Developer Mode or to run Python as an administrator. In order to see activate developer mode, see this article: https://docs.microsoft.com/en-us/windows/apps/get-started/enable-your-device-for-development\n",
      "  warnings.warn(message)\n"
     ]
    },
    {
     "data": {
      "application/vnd.jupyter.widget-view+json": {
       "model_id": "6a6be1a2219245d6b44b250d80722170",
       "version_major": 2,
       "version_minor": 0
      },
      "text/plain": [
       "README.md:   0%|          | 0.00/498k [00:00<?, ?B/s]"
      ]
     },
     "metadata": {},
     "output_type": "display_data"
    },
    {
     "data": {
      "application/vnd.jupyter.widget-view+json": {
       "model_id": "6846196c5ba54dd09fdce0fdbb7fffec",
       "version_major": 2,
       "version_minor": 0
      },
      "text/plain": [
       "sentence_bert_config.json:   0%|          | 0.00/57.0 [00:00<?, ?B/s]"
      ]
     },
     "metadata": {},
     "output_type": "display_data"
    },
    {
     "data": {
      "application/vnd.jupyter.widget-view+json": {
       "model_id": "43fdf531df58492fbe8e878959cb7d36",
       "version_major": 2,
       "version_minor": 0
      },
      "text/plain": [
       "config.json:   0%|          | 0.00/655 [00:00<?, ?B/s]"
      ]
     },
     "metadata": {},
     "output_type": "display_data"
    },
    {
     "data": {
      "application/vnd.jupyter.widget-view+json": {
       "model_id": "2ae31b6da2be4887bf4983c16ba0bec4",
       "version_major": 2,
       "version_minor": 0
      },
      "text/plain": [
       "model.safetensors:   0%|          | 0.00/471M [00:00<?, ?B/s]"
      ]
     },
     "metadata": {},
     "output_type": "display_data"
    },
    {
     "data": {
      "application/vnd.jupyter.widget-view+json": {
       "model_id": "53279d01476e44b3adbbc624fdda7af2",
       "version_major": 2,
       "version_minor": 0
      },
      "text/plain": [
       "tokenizer_config.json:   0%|          | 0.00/443 [00:00<?, ?B/s]"
      ]
     },
     "metadata": {},
     "output_type": "display_data"
    },
    {
     "data": {
      "application/vnd.jupyter.widget-view+json": {
       "model_id": "f9aaeb536f534ca88bd5a27e16847ab3",
       "version_major": 2,
       "version_minor": 0
      },
      "text/plain": [
       "sentencepiece.bpe.model:   0%|          | 0.00/5.07M [00:00<?, ?B/s]"
      ]
     },
     "metadata": {},
     "output_type": "display_data"
    },
    {
     "data": {
      "application/vnd.jupyter.widget-view+json": {
       "model_id": "05e344d963394be7847502b4690433ff",
       "version_major": 2,
       "version_minor": 0
      },
      "text/plain": [
       "tokenizer.json:   0%|          | 0.00/17.1M [00:00<?, ?B/s]"
      ]
     },
     "metadata": {},
     "output_type": "display_data"
    },
    {
     "data": {
      "application/vnd.jupyter.widget-view+json": {
       "model_id": "8c45633bbe8e400d812d8bb1e8b0e833",
       "version_major": 2,
       "version_minor": 0
      },
      "text/plain": [
       "special_tokens_map.json:   0%|          | 0.00/167 [00:00<?, ?B/s]"
      ]
     },
     "metadata": {},
     "output_type": "display_data"
    },
    {
     "data": {
      "application/vnd.jupyter.widget-view+json": {
       "model_id": "aca5ab4884414a659d6f3b2da4b169fa",
       "version_major": 2,
       "version_minor": 0
      },
      "text/plain": [
       "config.json:   0%|          | 0.00/200 [00:00<?, ?B/s]"
      ]
     },
     "metadata": {},
     "output_type": "display_data"
    }
   ],
   "source": [
    "import faiss\n",
    "import numpy as np\n",
    "from sentence_transformers import SentenceTransformer\n",
    "from langchain.vectorstores import FAISS\n",
    "from langchain.embeddings import HuggingFaceEmbeddings\n",
    "from langchain.schema import Document\n",
    "\n",
    "\n",
    "\n",
    "# embedding_model = HuggingFaceEmbeddings(model_name=\"sentence-transformers/all-MiniLM-L6-v2\")\n",
    "# embedding_model = HuggingFaceEmbeddings(model_name=\"sentence-transformers/all-mpnet-base-v2\")\n",
    "# embedding_model = HuggingFaceEmbeddings(model_name=\"intfloat/multilingual-e5-large\")\n",
    "embedding_model = HuggingFaceEmbeddings(model_name=\"intfloat/multilingual-e5-small\")\n",
    "\n",
    "\n",
    "\n",
    "docs = [\n",
    "    Document(\n",
    "        page_content=f\"Name: {row['Name']}\\nPrice: {row['price']} Baht\\nLocation: {row['Province']}\",\n",
    "        metadata={\"name\": row[\"Name\"], \"price\": row[\"price\"], \"address\": row[\"Province\"]}\n",
    "    )\n",
    "    for _, row in nursing_houses.iterrows()\n",
    "]\n",
    "\n",
    "\n",
    "vectorstore = FAISS.from_documents(docs, embedding_model)\n",
    "\n",
    "\n",
    "vectorstore.save_local(\"faiss_nursing_homes\")\n"
   ]
  },
  {
   "cell_type": "code",
   "execution_count": 51,
   "metadata": {},
   "outputs": [],
   "source": [
    "import faiss\n",
    "import numpy as np\n",
    "from sentence_transformers import SentenceTransformer\n",
    "from langchain.vectorstores import FAISS\n",
    "from langchain.embeddings import HuggingFaceEmbeddings\n",
    "from langchain.schema import Document\n",
    "\n",
    "# embedding_model = HuggingFaceEmbeddings(model_name=\"sentence-transformers/all-MiniLM-L6-v2\")\n",
    "# embedding_model = HuggingFaceEmbeddings(model_name=\"sentence-transformers/all-mpnet-base-v2\")\n",
    "# embedding_model = HuggingFaceEmbeddings(model_name=\"intfloat/multilingual-e5-large\") #ดีมากแต่ช้าเกิน GPU เต็ม\n",
    "embedding_model = HuggingFaceEmbeddings(model_name=\"intfloat/multilingual-e5-small\")\n",
    "# embedding_model = HuggingFaceEmbeddings(model_name=\"BAAI/bge-small-en\")"
   ]
  },
  {
   "cell_type": "code",
   "execution_count": 52,
   "metadata": {},
   "outputs": [
    {
     "name": "stdout",
     "output_type": "stream",
     "text": [
      "Name: ศูนย์ดูแลผู้สูงอายุแสนสิริพระราม2\n",
      "Price: 22000 Baht\n",
      "Location: กรุงเทพมหานคร\n",
      "Name: ชลบุรีโฮมแคร์\n",
      "Price: 22000 Baht\n",
      "Location: ชลบุรี\n",
      "Name: โรงพยาบาลผู้สูงอายุกล้วยน้ำไท 2\n",
      "Price: 30000 Baht\n",
      "Location: กรุงเทพมหานคร\n",
      "Name: บ้านตะวันรุ่ง\n",
      "Price: 25000 Baht\n",
      "Location: กรุงเทพมหานคร\n",
      "Name: สบายใจโฮมแคร์ บ้านพักผู้สูงอายุ\n",
      "Price: 22000 Baht\n",
      "Location: พระนครศรีอยุธยา \n",
      "Name: สถานรับดูแลผู้ป่วยจิตเวชและสูงอายุ บ้านคุณจุ๋ม(สาขาอิสรภาพ5)\n",
      "Price: 22000 Baht\n",
      "Location: กรุงเทพมหานคร\n",
      "Name: บ้านกฤษณา ศูนย์ดูแลผู้สูงอายุ Krissana Nursing Home\n",
      "Price: 22000 Baht\n",
      "Location: กรุงเทพมหานคร\n",
      "Name: รับดูแลผู้ป่วยจิตเวชและผู้สูงอายุ บางแค พุทธมณฑล - บ้านคุณจุ๋ม\n",
      "Price: 22000 Baht\n",
      "Location: กรุงเทพมหานคร\n",
      "Name: Homeoflove\n",
      "Price: 22000 Baht\n",
      "Location: ลำปาง\n",
      "Name: ศูนย์ดูแลผู้สูงอายุ ดุสิตแคร์\n",
      "Price: 32500 Baht\n",
      "Location: กรุงเทพมหานคร\n"
     ]
    }
   ],
   "source": [
    "vectorstore = FAISS.load_local(\"faiss_nursing_homes\", embedding_model, allow_dangerous_deserialization=True)\n",
    "\n",
    "\n",
    "nh_name = \"บ้านกฤษณา ศูนย์ดูแลผู้สูงอายุ Krissana Nursing Home\"\n",
    "# nh_name = \"ศูนย์ดูแลผู้สูงอายุ ขอนแก่นโฮมแคร์ KHONKAEN HOMECARE\"\n",
    "\n",
    "selected_house = nursing_houses[nursing_houses[\"Name\"] == nh_name].iloc[0]\n",
    "selected_province, selected_price = selected_house[\"Province\"],selected_house[\"price\"]\n",
    "\n",
    "\n",
    "query_text = f\"{selected_province}, {selected_price}\"\n",
    "# query_text = f\"{nh_name}\"\n",
    "\n",
    "\n",
    "query_embedding = embedding_model.embed_query(query_text)\n",
    "\n",
    "\n",
    "similar_houses = vectorstore.similarity_search_by_vector(query_embedding, k=10)\n",
    "\n",
    "\n",
    "similar_houses_text = \"\\n\".join([doc.page_content for doc in similar_houses])\n",
    "\n",
    "\n",
    "for i in similar_houses_text.split(\"\\n\"):\n",
    "    print(i)"
   ]
  },
  {
   "cell_type": "code",
   "execution_count": 56,
   "metadata": {},
   "outputs": [
    {
     "name": "stdout",
     "output_type": "stream",
     "text": [
      "['ศูนย์ดูแลผู้สูงอายุแสนสิริพระราม2', ' สถานรับดูแลผู้ป่วยจิตเวชและสูงอายุ บ้านคุณจุ๋ม(สาขาอิสรภาพ5)', ' รับดูแลผู้ป่วยจิตเวชและผู้สูงอายุ บางแค พุทธมณฑล - บ้านคุณจุ๋ม']\n"
     ]
    }
   ],
   "source": [
    "from langchain_google_genai import GoogleGenerativeAI\n",
    "from langchain_core.prompts import ChatPromptTemplate\n",
    "\n",
    "llm = GoogleGenerativeAI(model=\"gemini-2.0-flash-exp\", google_api_key=GOOGLE_API_KEY)\n",
    "\n",
    "\n",
    "system_prompt = f\"\"\"\n",
    "You are an AI specialized in recommending nursing homes.\n",
    "Here are some similar nursing homes based on the user's interest:\n",
    "{similar_houses_text}\n",
    "\"\"\"\n",
    "\n",
    "\n",
    "user_prompt = f\"\"\"You must recommend 3 nursing homes based on the user's interest.\n",
    "You must provide a short response containing only an array of nursing home names.\n",
    "It is extremely important that the names match exactly, including every character and spacing.\n",
    "Do not recommend the following nursing home: {nh_name} because it has already been viewed by the user. This nursing home has the following details:\n",
    "- Address: {selected_province} more important than price x1.5 because the user's preference is for a location within a specific region or proximity to their home for convenience, accessibility, and familiarity. \n",
    "- Price: {selected_price} important x1\n",
    "Instead, please recommend other nursing homes based on the address and price of {nh_name}.\n",
    "Do **not** respond in JSON or any code block format. Only provide the response as plain text without any additional formatting.\n",
    "Example response: [Home_Name_1, Home_Name_2, Home_Name_3]\"\"\"\n",
    "\n",
    "\n",
    "prompt = ChatPromptTemplate.from_messages([\n",
    "    (\"system\", system_prompt),\n",
    "    (\"human\", user_prompt)\n",
    "])\n",
    "\n",
    "\n",
    "response = llm.invoke(prompt.format())\n",
    "\n",
    "\n",
    "print(response.strip(\"[]\\n''\").split(','))"
   ]
  },
  {
   "cell_type": "code",
   "execution_count": 50,
   "metadata": {},
   "outputs": [
    {
     "name": "stdout",
     "output_type": "stream",
     "text": [
      "sentence-transformers/all-MiniLM-L6-v2\n"
     ]
    }
   ],
   "source": [
    "print(embedding_model.model_name)"
   ]
  },
  {
   "cell_type": "markdown",
   "metadata": {},
   "source": [
    "# score"
   ]
  },
  {
   "cell_type": "code",
   "execution_count": 53,
   "metadata": {},
   "outputs": [],
   "source": [
    "def is_valid_recommendation(doc, ground_truth_province, ground_truth_price):\n",
    "    is_province_match = doc.metadata[\"address\"] == ground_truth_province\n",
    "    price_diff = abs(doc.metadata[\"price\"] - ground_truth_price)\n",
    "    is_price_match = price_diff <= 20000\n",
    "    return is_province_match and is_price_match"
   ]
  },
  {
   "cell_type": "code",
   "execution_count": null,
   "metadata": {},
   "outputs": [
    {
     "name": "stdout",
     "output_type": "stream",
     "text": [
      "Hit Rate (จาก Ground Truth): 50.00%\n"
     ]
    }
   ],
   "source": [
    "# Ground Truth\n",
    "ground_truth_province = selected_province\n",
    "ground_truth_price = selected_price\n",
    "\n",
    "correct_hits = sum(1 for doc in similar_houses if is_valid_recommendation(doc, ground_truth_province, ground_truth_price))\n",
    "\n",
    "hit_rate = correct_hits / len(similar_houses)\n",
    "print(f\"Hit Rate (จาก Ground Truth): {hit_rate:.2%}\")\n",
    "\n"
   ]
  },
  {
   "cell_type": "code",
   "execution_count": 35,
   "metadata": {},
   "outputs": [
    {
     "name": "stdout",
     "output_type": "stream",
     "text": [
      "Hit Rate (จาก Similarity Score): 100.00%\n"
     ]
    }
   ],
   "source": [
    "similar_houses_with_scores = vectorstore.similarity_search_with_relevance_scores(query_text, k=10)\n",
    "\n",
    "# กำหนดขั้นต่ำ\n",
    "similarity_threshold = 0.80\n",
    "\n",
    "\n",
    "correct_hits = sum(1 for _, score in similar_houses_with_scores if score >= similarity_threshold)\n",
    "\n",
    "hit_rate = correct_hits / len(similar_houses_with_scores)\n",
    "print(f\"Hit Rate (จาก Similarity Score): {hit_rate:.2%}\")"
   ]
  },
  {
   "cell_type": "markdown",
   "metadata": {},
   "source": [
    "# loop score และค่าเฉลี่ย"
   ]
  },
  {
   "cell_type": "code",
   "execution_count": 55,
   "metadata": {},
   "outputs": [
    {
     "name": "stdout",
     "output_type": "stream",
     "text": [
      "Hit Rate เฉลี่ยบ้านทุกหลัง (จาก Ground Truth): 42.16981132075472%\n"
     ]
    }
   ],
   "source": [
    "import math\n",
    "\n",
    "all_hit_rate = []\n",
    "\n",
    "for index, nh in nursing_houses.iterrows():\n",
    "    nh_name = nh['Name']\n",
    "\n",
    "    selected_house = nursing_houses[nursing_houses[\"Name\"] == nh_name].iloc[0]\n",
    "    selected_province, selected_price = selected_house[\"Province\"],selected_house[\"price\"]\n",
    "\n",
    "    query_text = f\"{selected_province}, {selected_price}\"\n",
    "\n",
    "    query_embedding = embedding_model.embed_query(query_text)\n",
    "\n",
    "    similar_houses = vectorstore.similarity_search_by_vector(query_embedding, k=10)\n",
    "\n",
    "\n",
    "    ground_truth_province = selected_province\n",
    "    ground_truth_price = selected_price\n",
    "\n",
    "    correct_hits = sum(1 for doc in similar_houses if is_valid_recommendation(doc, ground_truth_province, ground_truth_price))\n",
    "\n",
    "    hit_rate = correct_hits / len(similar_houses)\n",
    "\n",
    "    all_hit_rate.append(hit_rate*100)\n",
    "    # print(f\"Hit Rate (จาก Ground Truth): {hit_rate*100}\")\n",
    "\n",
    "mean = math.fsum(all_hit_rate) / len(all_hit_rate)\n",
    "# print(mean)\n",
    "print(f\"Hit Rate เฉลี่ยบ้านทุกหลัง (จาก Ground Truth): {mean}%\")\n"
   ]
  },
  {
   "cell_type": "code",
   "execution_count": 57,
   "metadata": {},
   "outputs": [
    {
     "name": "stdout",
     "output_type": "stream",
     "text": [
      "Hit Rate เฉลี่ยบ้านทุกหลัง (จาก จาก Similarity Score): 95.94339622641509%\n"
     ]
    }
   ],
   "source": [
    "import math\n",
    "\n",
    "all_hit_rate = []\n",
    "\n",
    "for index, nh in nursing_houses.iterrows():\n",
    "    nh_name = nh['Name']\n",
    "\n",
    "    selected_house = nursing_houses[nursing_houses[\"Name\"] == nh_name].iloc[0]\n",
    "    selected_province, selected_price = selected_house[\"Province\"],selected_house[\"price\"]\n",
    "\n",
    "    query_text = f\"{selected_province}, {selected_price}\"\n",
    "\n",
    "    query_embedding = embedding_model.embed_query(query_text)\n",
    "\n",
    "    similar_houses_with_scores = vectorstore.similarity_search_with_relevance_scores(query_text, k=10)\n",
    "\n",
    "    # กำหนดขั้นต่ำ\n",
    "    similarity_threshold = 0.775\n",
    "\n",
    "    correct_hits = sum(1 for _, score in similar_houses_with_scores if score >= similarity_threshold)\n",
    "\n",
    "    hit_rate = correct_hits / len(similar_houses)\n",
    "\n",
    "    all_hit_rate.append(hit_rate*100)\n",
    "\n",
    "mean = math.fsum(all_hit_rate) / len(all_hit_rate)\n",
    "\n",
    "print(f\"Hit Rate เฉลี่ยบ้านทุกหลัง (จาก จาก Similarity Score): {mean}%\")\n"
   ]
  }
 ],
 "metadata": {
  "kernelspec": {
   "display_name": "Python 3",
   "language": "python",
   "name": "python3"
  },
  "language_info": {
   "codemirror_mode": {
    "name": "ipython",
    "version": 3
   },
   "file_extension": ".py",
   "mimetype": "text/x-python",
   "name": "python",
   "nbconvert_exporter": "python",
   "pygments_lexer": "ipython3",
   "version": "3.10.6"
  }
 },
 "nbformat": 4,
 "nbformat_minor": 2
}
